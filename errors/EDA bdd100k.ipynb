{
 "cells": [
  {
   "cell_type": "markdown",
   "id": "8e5adc19-92f1-40e9-95fb-1a988b983cc9",
   "metadata": {
    "tags": []
   },
   "source": [
    "# EDA on BDD100k"
   ]
  },
  {
   "cell_type": "code",
   "execution_count": null,
   "id": "c4443f2a-1747-457d-b13d-f12312ec2124",
   "metadata": {},
   "outputs": [],
   "source": [
    "import os\n",
    "import random\n",
    "\n",
    "import cv2\n",
    "from PIL import Image, ImageDraw, ImageFont\n",
    "import json\n",
    "\n",
    "import pandas as pd\n",
    "import numpy as np\n",
    "import matplotlib.pyplot as plt\n",
    "import seaborn as sns"
   ]
  },
  {
   "cell_type": "code",
   "execution_count": null,
   "id": "23b26b0b-7ab1-463f-a5c5-e147926e0227",
   "metadata": {},
   "outputs": [],
   "source": [
    "pd.set_option('display.max_rows', 500)\n",
    "pd.set_option('display.max_columns', 500)\n",
    "pd.set_option('display.width', 10000)"
   ]
  },
  {
   "cell_type": "markdown",
   "id": "fabf193b-18d6-46db-bd58-0b764b8c6a18",
   "metadata": {},
   "source": [
    "## Helper Functions"
   ]
  },
  {
   "cell_type": "code",
   "execution_count": null,
   "id": "4c717735-e947-4ec0-9511-5ddb59cb95bd",
   "metadata": {},
   "outputs": [],
   "source": [
    "color_map = {\n",
    "    \"pedestrian\": \"blue\",\n",
    "    \"rider\": \"green\",\n",
    "    \"car\": \"red\",\n",
    "    \"truck\": \"sienna\",\n",
    "    \"bus\": \"cyan\",\n",
    "    \"train\": \"pink\",\n",
    "    \"motorcycle\": \"yellow\",\n",
    "    \"bicycle\": \"orange\",\n",
    "    \"traffic light\": \"lime\",\n",
    "    \"traffic sign\": \"magenta\"\n",
    "}\n",
    "def draw_bounding_boxes(image_path, labels):\n",
    "    with Image.open(image_path) as img:\n",
    "        draw = ImageDraw.Draw(img)\n",
    "        '''\n",
    "        font = ImageFont.load_default()\n",
    "        try:\n",
    "            # Adjust the size here (e.g., size 16)\n",
    "            font = ImageFont.truetype(\"arial.ttf\", 16)\n",
    "        except IOError:\n",
    "            # Fallback to default font if .ttf is not found\n",
    "            font = ImageFont.load_default()\n",
    "        '''\n",
    "        for label in labels:\n",
    "            category = label['category']\n",
    "            color = color_map.get(category, \"white\")  # Default to white if category not found\n",
    "            box = label['box2d']\n",
    "            draw.rectangle([box['x1'], box['y1'], box['x2'], box['y2']], outline=color, width=2)\n",
    "            '''\n",
    "            # Calculate text position (slightly above the top left corner)\n",
    "            text_position = (box['x1'], box['y1'] + 1)\n",
    "            \n",
    "            # Draw the text\n",
    "            draw.text(text_position, category, fill=color, font=font)\n",
    "            '''\n",
    "        return img\n",
    "\n",
    "def plot_image(image_name, labels):\n",
    "    image_path = os.path.join(images_folder_train, image_name)\n",
    "    img = draw_bounding_boxes(image_path, labels)\n",
    "    plt.figure(figsize=(15, 12))\n",
    "    plt.imshow(img)\n",
    "    plt.axis('off')\n",
    "    plt.title(f\"Image: {image_name}\") \n",
    "    plt.show()"
   ]
  },
  {
   "cell_type": "code",
   "execution_count": null,
   "id": "3ba99cc9-733e-4c1c-bf4b-d36b27c5da9e",
   "metadata": {},
   "outputs": [],
   "source": [
    "def vis_image(image_name):\n",
    "    # Load the image using OpenCV\n",
    "    image_path = os.path.join(images_folder_train, image_name)\n",
    "    image = cv2.imread(image_path)\n",
    "\n",
    "    if image is None:\n",
    "        print(f\"Failed to load image: {image_name}\")\n",
    "        return\n",
    "\n",
    "    # Convert the image from BGR to RGB (OpenCV uses BGR by default, Matplotlib uses RGB)\n",
    "    image = cv2.cvtColor(image, cv2.COLOR_BGR2RGB)\n",
    "\n",
    "    # Display the image\n",
    "    plt.imshow(image)\n",
    "    plt.title(\"Image name: \" + image_name)\n",
    "    plt.axis('off')  # Hide axis\n",
    "    plt.show()"
   ]
  },
  {
   "cell_type": "code",
   "execution_count": null,
   "id": "2d281b4d-3c1e-4bac-b4d1-3e595c31d916",
   "metadata": {},
   "outputs": [],
   "source": [
    "def get_random_images(data, n=5):\n",
    "    return random.sample(data, n)"
   ]
  },
  {
   "cell_type": "markdown",
   "id": "254ca5c6-afd7-432f-b3bb-666388f9d373",
   "metadata": {},
   "source": [
    "## Paths"
   ]
  },
  {
   "cell_type": "markdown",
   "id": "1f1671f4-3bb4-4fce-acfa-73b2befecbe7",
   "metadata": {},
   "source": [
    "### Validation"
   ]
  },
  {
   "cell_type": "code",
   "execution_count": null,
   "id": "65b205d0-a08e-4130-a436-d50a93395cab",
   "metadata": {},
   "outputs": [],
   "source": [
    "images_folder_val = \"100k_images_val/val\"\n",
    "json_labels_val = \"bdd100k_det_20_labels_trainval/det_20/det_val.json\""
   ]
  },
  {
   "cell_type": "markdown",
   "id": "89f115d0-71c7-4fe1-aff9-071e8b12a4bd",
   "metadata": {},
   "source": [
    "### Train"
   ]
  },
  {
   "cell_type": "code",
   "execution_count": null,
   "id": "cbfaf90f-1c7f-44b4-af79-e28e38b91af0",
   "metadata": {},
   "outputs": [],
   "source": [
    "images_folder_train = \"100k_images_train/bdd100k/images/100k/train\"\n",
    "json_labels_train = \"bdd100k_det_20_labels_trainval/det_20/det_train.json\""
   ]
  },
  {
   "cell_type": "markdown",
   "id": "836db1d0-f58a-41d6-b1aa-2397a17697cd",
   "metadata": {},
   "source": [
    "## Load Data"
   ]
  },
  {
   "cell_type": "code",
   "execution_count": null,
   "id": "21fca8ff-87d0-46cb-a2ed-42bdea7b9bfc",
   "metadata": {},
   "outputs": [],
   "source": [
    "with open(json_labels_val, 'r') as file:\n",
    "    data_val = json.load(file)"
   ]
  },
  {
   "cell_type": "code",
   "execution_count": null,
   "id": "ee69289c-46f0-45a0-87f0-1a1f737b9ffe",
   "metadata": {},
   "outputs": [],
   "source": [
    "with open(json_labels_train, 'r') as file:\n",
    "    data_train = json.load(file)"
   ]
  },
  {
   "cell_type": "markdown",
   "id": "93816e31-f2dc-4c73-9213-9a155df096f1",
   "metadata": {},
   "source": [
    "## Data Visualisation"
   ]
  },
  {
   "cell_type": "code",
   "execution_count": null,
   "id": "2f355ac2-2067-41d3-aeef-ab5a2cea321e",
   "metadata": {},
   "outputs": [],
   "source": [
    "no_label_images_list = []\n",
    "for item in data_train:\n",
    "    if 'labels' not in item:\n",
    "        no_label_images_list.append(item['name'])\n",
    "len(no_label_images_list)"
   ]
  },
  {
   "cell_type": "code",
   "execution_count": null,
   "id": "c44a4008-77f3-4a13-af59-254466a0dab8",
   "metadata": {
    "scrolled": true
   },
   "outputs": [],
   "source": [
    "# Visualise images in jupyter notebook\n",
    "for image_name in no_label_images_list:\n",
    "    vis_image(image_name)"
   ]
  },
  {
   "cell_type": "code",
   "execution_count": null,
   "id": "a5cce276-04b8-48cd-93cc-2e977dd27a52",
   "metadata": {},
   "outputs": [],
   "source": []
  },
  {
   "cell_type": "markdown",
   "id": "79857a36-148a-4553-aff4-616c116594af",
   "metadata": {},
   "source": [
    "### Explore Labeled Image Data"
   ]
  },
  {
   "cell_type": "markdown",
   "id": "851b520e-93b9-44ce-8199-4a427447b512",
   "metadata": {},
   "source": [
    "#### No labels"
   ]
  },
  {
   "cell_type": "markdown",
   "id": "712ae5d6-da27-47f9-a7da-948ce58c3774",
   "metadata": {
    "jp-MarkdownHeadingCollapsed": true
   },
   "source": [
    "#### Labels with errors"
   ]
  },
  {
   "cell_type": "code",
   "execution_count": null,
   "id": "5b26646e-a831-473d-a90e-862477843519",
   "metadata": {},
   "outputs": [],
   "source": [
    "labels_w_errors = [\"fddc9505-6dca33bd.jpg\", \"01632f31-ab7e17e3.jpg\",  \"69c3f055-23f9a8f4.jpg\"]"
   ]
  },
  {
   "cell_type": "code",
   "execution_count": null,
   "id": "d92f933e-613e-4634-a10b-10e492568fdc",
   "metadata": {
    "scrolled": true
   },
   "outputs": [],
   "source": [
    "for label_name in labels_w_errors:\n",
    "    labels_for_image = next((entry['labels'] for entry in data_train if entry['name'] == label_name), None)\n",
    "    plot_image(label_name, labels_for_image)"
   ]
  },
  {
   "cell_type": "markdown",
   "id": "3b004d3d-6c69-4d08-a08a-f75b3ecd2c5b",
   "metadata": {
    "jp-MarkdownHeadingCollapsed": true
   },
   "source": [
    "#### Random labeled images"
   ]
  },
  {
   "cell_type": "code",
   "execution_count": null,
   "id": "f536b5f0-b44f-4a7d-b217-7f0e6bdd6df5",
   "metadata": {},
   "outputs": [],
   "source": [
    "random_images = get_random_images(data=data_train, n=10)\n",
    "random_images_names = [image[\"name\"] for image in random_images]\n",
    "random_images_names"
   ]
  },
  {
   "cell_type": "code",
   "execution_count": null,
   "id": "001cf577-86ce-46bf-b1d0-533888367ec1",
   "metadata": {
    "scrolled": true
   },
   "outputs": [],
   "source": [
    "for sample in random_images:\n",
    "    image_name = sample['name']\n",
    "    labels = sample['labels']\n",
    "    plot_image(image_name, labels)"
   ]
  },
  {
   "cell_type": "code",
   "execution_count": null,
   "id": "41afc9f3-38e8-4a1e-87cc-5f963f9c1c1c",
   "metadata": {},
   "outputs": [],
   "source": []
  },
  {
   "cell_type": "markdown",
   "id": "887f7ab1-38bf-4e63-8daa-6891ef87b6e9",
   "metadata": {},
   "source": [
    "## Explanatory Data Analysis"
   ]
  },
  {
   "cell_type": "markdown",
   "id": "5b34acd8-d0ee-4851-b407-f98772ff6c7f",
   "metadata": {},
   "source": [
    "### Image-level"
   ]
  },
  {
   "cell_type": "code",
   "execution_count": null,
   "id": "28bdb482-860c-4d6f-8680-3bb23d2d7964",
   "metadata": {},
   "outputs": [],
   "source": [
    "flattened_data = []\n",
    "for item in data_train:\n",
    "    # Create a dictionary to store counts of each category in this image\n",
    "    category_counts = {}\n",
    "    if 'labels' in item:\n",
    "        for label in item['labels']:\n",
    "            category = label['category']\n",
    "            if category in category_counts:\n",
    "                category_counts[category] += 1\n",
    "            else:\n",
    "                category_counts[category] = 1\n",
    "    \n",
    "    entry = {\n",
    "        'image_name': item['name'],\n",
    "        'weather': item['attributes'].get('weather', np.nan),\n",
    "        'timeofday': item['attributes'].get('timeofday', np.nan),\n",
    "        'scene': item['attributes'].get('scene', np.nan)\n",
    "    }\n",
    "    entry.update(category_counts)  # Merge the category counts into the entry\n",
    "    flattened_data.append(entry)\n",
    "\n",
    "# Create a DataFrame\n",
    "image_df = pd.DataFrame(flattened_data)"
   ]
  },
  {
   "cell_type": "code",
   "execution_count": null,
   "id": "46713f1c-eefc-42d1-a6f9-c41e07deab86",
   "metadata": {
    "scrolled": true
   },
   "outputs": [],
   "source": [
    "image_df"
   ]
  },
  {
   "cell_type": "code",
   "execution_count": null,
   "id": "98d83e8a-f33c-4b0e-a7a5-c5640d580501",
   "metadata": {
    "tags": []
   },
   "outputs": [],
   "source": [
    "image_df.info()"
   ]
  },
  {
   "cell_type": "code",
   "execution_count": null,
   "id": "5b33961d-cb9c-4f0f-bf83-96414c1ac1a8",
   "metadata": {},
   "outputs": [],
   "source": [
    "image_df.describe(include='all')"
   ]
  },
  {
   "cell_type": "code",
   "execution_count": null,
   "id": "ca1827f4-7c18-4773-a03a-bd07c3984724",
   "metadata": {},
   "outputs": [],
   "source": [
    "image_df['weather'].value_counts()"
   ]
  },
  {
   "cell_type": "code",
   "execution_count": null,
   "id": "28777aaa-12ec-4dc0-bd4c-d0b4e905c359",
   "metadata": {},
   "outputs": [],
   "source": [
    "image_df['timeofday'].value_counts()"
   ]
  },
  {
   "cell_type": "code",
   "execution_count": null,
   "id": "37016ddb-465e-4b89-bdc7-7f250da0fe10",
   "metadata": {},
   "outputs": [],
   "source": [
    "image_df['scene'].value_counts()"
   ]
  },
  {
   "cell_type": "code",
   "execution_count": null,
   "id": "a499ecac-a15d-4fc3-8004-83810555ed07",
   "metadata": {},
   "outputs": [],
   "source": []
  },
  {
   "cell_type": "markdown",
   "id": "ecf7b95d-30ca-4001-8327-131664005e6e",
   "metadata": {},
   "source": [
    "### Label-level"
   ]
  },
  {
   "cell_type": "code",
   "execution_count": null,
   "id": "caff356a-b401-44b4-978e-dad3dedbbccd",
   "metadata": {},
   "outputs": [],
   "source": [
    "def flatten_data(data):\n",
    "    flattened_data = []\n",
    "\n",
    "    for entry in data:\n",
    "        image_name = entry[\"name\"]\n",
    "        weather = entry[\"attributes\"].get(\"weather\", np.nan)\n",
    "        timeofday = entry[\"attributes\"].get(\"timeofday\", np.nan)\n",
    "        scene = entry[\"attributes\"].get(\"scene\", np.nan)\n",
    "\n",
    "        if \"labels\" in entry:\n",
    "            for label in entry[\"labels\"]:\n",
    "                label_id = label.get(\"id\", np.nan)\n",
    "                occluded = label[\"attributes\"].get(\"occluded\", np.nan)\n",
    "                truncated = label[\"attributes\"].get(\"truncated\", np.nan)\n",
    "                traffic_light_color = label[\"attributes\"].get(\"trafficLightColor\", np.nan)\n",
    "                category = label.get(\"category\", np.nan)\n",
    "                x1 = label[\"box2d\"].get(\"x1\", np.nan)\n",
    "                y1 = label[\"box2d\"].get(\"y1\", np.nan)\n",
    "                x2 = label[\"box2d\"].get(\"x2\", np.nan)\n",
    "                y2 = label[\"box2d\"].get(\"y2\", np.nan)\n",
    "\n",
    "                flattened_data.append({\n",
    "                    \"image_name\": image_name,\n",
    "                    \"weather\": weather,\n",
    "                    \"timeofday\": timeofday,\n",
    "                    \"scene\": scene,\n",
    "                    \"label_id\": label_id,\n",
    "                    \"occluded\": occluded,\n",
    "                    \"truncated\": truncated,\n",
    "                    \"traffic_light_color\": traffic_light_color,\n",
    "                    \"category\": category,\n",
    "                    \"x1\": x1,\n",
    "                    \"y1\": y1,\n",
    "                    \"x2\": x2,\n",
    "                    \"y2\": y2\n",
    "                })\n",
    "\n",
    "    return flattened_data\n",
    "\n",
    "flattened_data = flatten_data(data_train)\n",
    "initial_df = pd.DataFrame(flattened_data)"
   ]
  },
  {
   "cell_type": "code",
   "execution_count": null,
   "id": "2d61348a-5892-43e0-aab8-9fd17884f931",
   "metadata": {
    "scrolled": true
   },
   "outputs": [],
   "source": [
    "initial_df"
   ]
  },
  {
   "cell_type": "markdown",
   "id": "5523b5fc-a60b-4ee8-b470-c7519a2d908a",
   "metadata": {},
   "source": [
    "##### 2D boxes"
   ]
  },
  {
   "cell_type": "code",
   "execution_count": null,
   "id": "800619b8-1127-44f7-be10-43c94ee75b4f",
   "metadata": {},
   "outputs": [],
   "source": [
    "box2d_df = initial_df.drop(columns=[\"traffic_light_color\", \"truncated\", \"occluded\"])\n",
    "box2d_df = box2d_df.reset_index(drop=True)"
   ]
  },
  {
   "cell_type": "code",
   "execution_count": null,
   "id": "6b94ac1c-06a9-439d-ac79-abf45f557f6f",
   "metadata": {},
   "outputs": [],
   "source": [
    "box2d_df"
   ]
  },
  {
   "cell_type": "code",
   "execution_count": null,
   "id": "9b920c92-375f-4ec4-a7e8-298867dd4500",
   "metadata": {},
   "outputs": [],
   "source": [
    "categories = {'bicycle',\n",
    "       'bus',\n",
    "       'car',\n",
    "       'motorcycle',\n",
    "       'other person',\n",
    "       'other vehicle',\n",
    "       'pedestrian',\n",
    "       'rider',\n",
    "       'traffic light',\n",
    "       'traffic sign',\n",
    "       'trailer',\n",
    "       'train',\n",
    "       'truck'\n",
    "    }"
   ]
  },
  {
   "cell_type": "code",
   "execution_count": null,
   "id": "8152dc1a-cc9c-47a8-9c30-871a64106383",
   "metadata": {},
   "outputs": [],
   "source": [
    "def plot_category_frequencies(df):\n",
    "    # Calculate category counts\n",
    "    category_counts = df['category'].value_counts()\n",
    "    total = category_counts.sum()\n",
    "\n",
    "    # Normalize counts for visual scaling\n",
    "    normalized_counts = category_counts / total\n",
    "\n",
    "    # Create the plot\n",
    "    plt.figure(figsize=(10, 4))\n",
    "    ax = normalized_counts.plot(kind='bar', color='skyblue')\n",
    "    plt.xlabel('Category')\n",
    "    plt.ylabel('Proportion')  # Changed from 'Normalized Frequency' for clarity\n",
    "    plt.title('Normalized Frequency of Categories')\n",
    "\n",
    "    # Annotate bars with the actual count\n",
    "    for i, v in enumerate(category_counts):\n",
    "        ax.text(i, normalized_counts[i] + 0.01, str(v), color='black', ha='center')  # Adjusted vertical offset for clarity\n",
    "\n",
    "    # Rotate x-axis labels for better readability\n",
    "    plt.xticks(rotation=45)\n",
    "    plt.ylim(0, 0.6)  # Ensure y-axis goes from 0 to 1 for normalized proportions\n",
    "    plt.show()"
   ]
  },
  {
   "cell_type": "code",
   "execution_count": null,
   "id": "0b3f13da-4f24-4165-b27f-80e54ab59754",
   "metadata": {},
   "outputs": [],
   "source": [
    "plot_category_frequencies(box2d_df)"
   ]
  },
  {
   "cell_type": "markdown",
   "id": "d313a62f-9277-445e-967b-8444d5ca5535",
   "metadata": {},
   "source": [
    "##### Heatmaps"
   ]
  },
  {
   "cell_type": "markdown",
   "id": "efd2f975-85eb-46d5-824a-12da0d3b4d44",
   "metadata": {},
   "source": [
    "###### for overall bounding box locations"
   ]
  },
  {
   "cell_type": "code",
   "execution_count": null,
   "id": "8d0f7d31-2ed2-4059-bfb6-74c0e4042865",
   "metadata": {},
   "outputs": [],
   "source": [
    "# Generate heatmaps for bounding box locations\n",
    "def create_heatmaps(df, img_size=(1024, 1024), category=None):\n",
    "    heatmap = np.zeros(img_size)\n",
    "    selected_df = df[df['category'] == category] if category else df\n",
    "    for _, row in selected_df.iterrows():\n",
    "        x1, y1, x2, y2 = map(int, [row['x1'], row['y1'], row['x2'], row['y2']])\n",
    "        heatmap[y1:y2, x1:x2] += 1\n",
    "    return heatmap\n",
    "\n",
    "# Plot heatmap\n",
    "def plot_heatmap(heatmap, title):\n",
    "    plt.figure(figsize=(10, 8))\n",
    "    sns.heatmap(heatmap, cmap='viridis')\n",
    "    plt.title(title)\n",
    "    plt.show()"
   ]
  },
  {
   "cell_type": "code",
   "execution_count": null,
   "id": "bb295863-f47c-453f-bb7e-616322a329e2",
   "metadata": {},
   "outputs": [],
   "source": [
    "overall_heatmap = create_heatmaps(box2d_df)\n",
    "plot_heatmap(overall_heatmap, 'Overall Bounding Box Heatmap')"
   ]
  },
  {
   "cell_type": "code",
   "execution_count": null,
   "id": "8728468c-2fd3-41f6-baa6-1489a9cfc517",
   "metadata": {},
   "outputs": [],
   "source": [
    "category = \"bus\"\n",
    "category_heatmap = create_heatmaps(box2d_df, category=category)\n",
    "plot_heatmap(category_heatmap, f'{category} Heatmap')"
   ]
  },
  {
   "cell_type": "code",
   "execution_count": null,
   "id": "8e7e81b9-ebf5-4810-8313-c58b22bc7e7c",
   "metadata": {},
   "outputs": [],
   "source": [
    "category = \"traffic light\"\n",
    "category_heatmap = create_heatmaps(box2d_df, category=category)\n",
    "plot_heatmap(category_heatmap, f'{category} Heatmap')"
   ]
  },
  {
   "cell_type": "code",
   "execution_count": null,
   "id": "3a2789b1-13c5-4d4c-9b5e-f589e866ab64",
   "metadata": {},
   "outputs": [],
   "source": [
    "category = \"pedestrian\"\n",
    "category_heatmap = create_heatmaps(box2d_df, category=category)\n",
    "plot_heatmap(category_heatmap, f'{category} Heatmap')"
   ]
  },
  {
   "cell_type": "code",
   "execution_count": null,
   "id": "32ebf822-245d-4f53-90c3-ec8ad7c66d41",
   "metadata": {},
   "outputs": [],
   "source": [
    "category = \"car\"\n",
    "category_heatmap = create_heatmaps(box2d_df, category=category)\n",
    "plot_heatmap(category_heatmap, f'{category} Heatmap')"
   ]
  },
  {
   "cell_type": "markdown",
   "id": "6b90ed88-ea2b-4663-b2dd-be08ae5a2607",
   "metadata": {},
   "source": [
    "##### Object co-occurrence"
   ]
  },
  {
   "cell_type": "code",
   "execution_count": null,
   "id": "2168c876-126e-4125-a747-89884d2e0e87",
   "metadata": {},
   "outputs": [],
   "source": [
    "def image_to_categories(df):\n",
    "    category_dict = {}\n",
    "    for index, row in df.iterrows():\n",
    "        if row['image_name'] not in category_dict:\n",
    "            category_dict[row['image_name']] = set()\n",
    "        category_dict[row['image_name']].add(row['category'])\n",
    "    return category_dict\n",
    "\n",
    "# Generate co-occurrence matrix\n",
    "def generate_co_occurrence_matrix(category_dict):\n",
    "    categories = sorted(set.union(*category_dict.values()))\n",
    "    co_occurrence = pd.DataFrame(0, index=categories, columns=categories)\n",
    "    \n",
    "    for categories in category_dict.values():\n",
    "        for cat1 in categories:\n",
    "            for cat2 in categories:\n",
    "                if cat1 != cat2:\n",
    "                    co_occurrence.at[cat1, cat2] += 1\n",
    "                    co_occurrence.at[cat2, cat1] += 1\n",
    "    \n",
    "    return co_occurrence\n",
    "\n",
    "# Plot the co-occurrence matrix\n",
    "def plot_co_occurrence_matrix(co_occurrence):\n",
    "    plt.figure(figsize=(12, 10))\n",
    "    sns.heatmap(co_occurrence, annot=True, fmt=\"d\", cmap='viridis')\n",
    "    plt.title('Object Co-occurrence Matrix')\n",
    "    plt.xlabel('Category')\n",
    "    plt.ylabel('Category')\n",
    "    plt.show()"
   ]
  },
  {
   "cell_type": "code",
   "execution_count": null,
   "id": "73fe9d1a-71dc-4e74-93bc-943d781f2311",
   "metadata": {},
   "outputs": [],
   "source": [
    "category_dict = image_to_categories(box2d_df)\n",
    "co_occurrence_matrix = generate_co_occurrence_matrix(category_dict)\n",
    "plot_co_occurrence_matrix(co_occurrence_matrix)"
   ]
  },
  {
   "cell_type": "markdown",
   "id": "a3f95966-c242-4051-9b48-31997d4184f7",
   "metadata": {},
   "source": [
    "#####  Size and Aspect Ratio Analysis"
   ]
  },
  {
   "cell_type": "code",
   "execution_count": null,
   "id": "bc7c5fbe-ffa6-4a7f-ba7f-6763d1f51e55",
   "metadata": {},
   "outputs": [],
   "source": [
    "# Function to calculate width, height, area, and aspect ratio of bounding boxes\n",
    "def calculate_metrics(df):\n",
    "    df['width'] = df['x2'] - df['x1']\n",
    "    df['height'] = df['y2'] - df['y1']\n",
    "    df['area'] = df['width'] * df['height']\n",
    "    df['aspect_ratio'] = df['width'] / df['height']\n",
    "    return df\n",
    "\n",
    "# Function to plot area and aspect ratio distributions for each category\n",
    "def plot_distributions_by_category(df):\n",
    "    categories = df['category'].unique()\n",
    "    for cat in categories:\n",
    "        subset = df[df['category'] == cat]\n",
    "        \n",
    "        # Plot area distribution\n",
    "        plt.figure(figsize=(12, 6))\n",
    "        sns.histplot(subset['area'], bins=100, kde=True, color='blue')\n",
    "        plt.title(f'Area Distribution for {cat}')\n",
    "        plt.xlabel('Area')\n",
    "        plt.ylabel('Frequency')\n",
    "        plt.grid(True)\n",
    "        plt.show()\n",
    "        \n",
    "        # Plot aspect ratio distribution\n",
    "        plt.figure(figsize=(12, 6))\n",
    "        sns.histplot(subset['aspect_ratio'], bins=100, kde=True, color='green')\n",
    "        plt.title(f'Aspect Ratio Distribution for {cat}')\n",
    "        plt.xlabel('Aspect Ratio (Width/Height)')\n",
    "        plt.ylabel('Frequency')\n",
    "        plt.grid(True)\n",
    "        plt.show()"
   ]
  },
  {
   "cell_type": "code",
   "execution_count": null,
   "id": "78eb5c96-1f7d-4891-ab78-6833abda22cd",
   "metadata": {},
   "outputs": [],
   "source": [
    "size_ration_df = calculate_metrics(box2d_df)"
   ]
  },
  {
   "cell_type": "code",
   "execution_count": null,
   "id": "b0c060b5-d312-4441-bdbb-74a5b8e0bb18",
   "metadata": {
    "scrolled": true
   },
   "outputs": [],
   "source": [
    "plot_distributions_by_category(size_ration_df)"
   ]
  },
  {
   "cell_type": "markdown",
   "id": "ceb15d3d-066f-48dc-806e-52b22ffcb75f",
   "metadata": {},
   "source": [
    "##### Common sizes"
   ]
  },
  {
   "cell_type": "code",
   "execution_count": null,
   "id": "1d187f23-faa1-439b-b371-d7edffb2a0cd",
   "metadata": {},
   "outputs": [],
   "source": [
    "from collections import Counter\n",
    "# Assuming df is your DataFrame loaded from data_to_dataframe function\n",
    "def analyze_sizes(df):\n",
    "    # Calculate width, height, and area\n",
    "    df['width'] = df['x2'] - df['x1']\n",
    "    df['height'] = df['y2'] - df['y1']\n",
    "    df['area'] = df['width'] * df['height']\n",
    "\n",
    "    # Group by category and calculate mean area and find most common sizes\n",
    "    category_analysis = df.groupby('category').agg(\n",
    "        mean_area=pd.NamedAgg(column='area', aggfunc='mean'),\n",
    "        mean_width=pd.NamedAgg(column='width', aggfunc='mean'),\n",
    "        mean_height=pd.NamedAgg(column='height', aggfunc='mean')\n",
    "    ).reset_index()\n",
    "\n",
    "    # Most common size for each category\n",
    "    most_common_sizes = {}\n",
    "    for category in df['category'].unique():\n",
    "        sizes = Counter(zip(df[df['category'] == category]['width'], df[df['category'] == category]['height']))\n",
    "        most_common_size = sizes.most_common(1)[0][0]\n",
    "        most_common_sizes[category] = most_common_size\n",
    "\n",
    "    # Add most common size to category analysis\n",
    "    category_analysis['most_common_width'] = category_analysis['category'].map(lambda x: most_common_sizes[x][0])\n",
    "    category_analysis['most_common_height'] = category_analysis['category'].map(lambda x: most_common_sizes[x][1])\n",
    "\n",
    "    # Print the table of results\n",
    "    print(category_analysis)"
   ]
  },
  {
   "cell_type": "code",
   "execution_count": null,
   "id": "093ddb7b-0ef8-4365-8730-dab1b83b349a",
   "metadata": {},
   "outputs": [],
   "source": [
    "analyze_sizes(box2d_df)"
   ]
  },
  {
   "cell_type": "code",
   "execution_count": null,
   "id": "f49370e2-7bbf-4e3e-be98-a15b101367ec",
   "metadata": {},
   "outputs": [],
   "source": [
    "import pandas as pd\n",
    "import numpy as np\n",
    "from collections import Counter\n",
    "\n",
    "def calculate_box_metrics(df):\n",
    "    \"\"\" Calculate width, height, and area for each bounding box and add as new columns \"\"\"\n",
    "    df['width'] = df['x2'] - df['x1']\n",
    "    df['height'] = df['y2'] - df['y1']\n",
    "    df['area'] = df['width'] * df['height']\n",
    "    return df\n",
    "\n",
    "def get_category_analysis(df):\n",
    "    \"\"\" Calculate mean and most common dimensions and sizes for each category \"\"\"\n",
    "    category_analysis = df.groupby('category').agg(\n",
    "        mean_area=pd.NamedAgg(column='area', aggfunc='mean'),\n",
    "        mean_width=pd.NamedAgg(column='width', aggfunc='mean'),\n",
    "        mean_height=pd.NamedAgg(column='height', aggfunc='mean')\n",
    "    ).reset_index()\n",
    "\n",
    "    most_common_sizes = {}\n",
    "    for category in df['category'].unique():\n",
    "        sizes = Counter(zip(df[df['category'] == category]['width'], df[df['category'] == category]['height']))\n",
    "        most_common_size = sizes.most_common(1)[0][0]\n",
    "        most_common_sizes[category] = most_common_size\n",
    "\n",
    "    category_analysis['most_common_width'] = category_analysis['category'].apply(lambda x: most_common_sizes[x][0])\n",
    "    category_analysis['most_common_height'] = category_analysis['category'].apply(lambda x: most_common_sizes[x][1])\n",
    "    return category_analysis\n"
   ]
  },
  {
   "cell_type": "code",
   "execution_count": null,
   "id": "add69b6f-a483-4be7-848a-502a77b34e0e",
   "metadata": {},
   "outputs": [],
   "source": [
    "import matplotlib.pyplot as plt\n",
    "import seaborn as sns\n",
    "\n",
    "def plot_mean_area_by_category(category_analysis):\n",
    "    \"\"\" Plot mean area of bounding boxes by category \"\"\"\n",
    "    plt.figure(figsize=(10, 4))\n",
    "    sns.barplot(x='category', y='mean_area', data=category_analysis, order=category_analysis.sort_values('mean_area', ascending=False)['category'])\n",
    "    plt.title('Mean Area of Bounding Boxes by Category')\n",
    "    plt.xlabel('Category')\n",
    "    plt.ylabel('Mean Area')\n",
    "    plt.xticks(rotation=45)\n",
    "    plt.grid(True)\n",
    "    plt.show()\n",
    "\n",
    "def plot_distribution_of_common_sizes(df, category_analysis, top_n=1):\n",
    "    \"\"\" Plot distributions for areas of top N most common box dimensions per category \"\"\"\n",
    "    plt.figure(figsize=(12, 8))\n",
    "    for category in df['category'].unique():\n",
    "        category_df = df[df['category'] == category]\n",
    "        sizes = Counter(zip(category_df['width'], category_df['height']))\n",
    "        most_common_sizes = sizes.most_common(top_n)\n",
    "        \n",
    "        for size in most_common_sizes:\n",
    "            common_width, common_height = size[0]\n",
    "            common_area_data = category_df[(category_df['width'] == common_width) &\n",
    "                                           (category_df['height'] == common_height)]['area']\n",
    "            # Ensure there is data to plot\n",
    "            if not common_area_data.empty:\n",
    "                sns.histplot(common_area_data, kde=False, label=f'{category}: w={common_width}, h={common_height}', \n",
    "                             bins=30, stat=\"density\", element=\"step\", common_norm=False)\n",
    "\n",
    "    plt.title(f'Distribution of Box Areas for Top {top_n} Most Common Sizes by Category')\n",
    "    plt.xlabel('Area')\n",
    "    plt.ylabel('Density')\n",
    "    plt.legend(title='Category and Size')\n",
    "    plt.grid(True)\n",
    "    plt.show()\n"
   ]
  },
  {
   "cell_type": "code",
   "execution_count": null,
   "id": "18b4698f-42c2-4687-b694-c327a2621f59",
   "metadata": {},
   "outputs": [],
   "source": [
    "sizes_df = calculate_box_metrics(box2d_df)\n",
    "category_analysis = get_category_analysis(sizes_df)"
   ]
  },
  {
   "cell_type": "code",
   "execution_count": null,
   "id": "b0c756fa-ebce-4043-952b-65261859e8c2",
   "metadata": {},
   "outputs": [],
   "source": [
    "plot_mean_area_by_category(category_analysis)"
   ]
  },
  {
   "cell_type": "code",
   "execution_count": null,
   "id": "86e252d3-c5e9-40c2-a1e8-107632f72edd",
   "metadata": {},
   "outputs": [],
   "source": [
    "plot_distribution_of_most_common_sizes(sizes_df, category_analysis)"
   ]
  },
  {
   "cell_type": "code",
   "execution_count": null,
   "id": "c29a655e-59ce-45fd-b8e2-642b9326ce72",
   "metadata": {},
   "outputs": [],
   "source": []
  }
 ],
 "metadata": {
  "kernelspec": {
   "display_name": "Python 3 (ipykernel)",
   "language": "python",
   "name": "python3"
  },
  "language_info": {
   "codemirror_mode": {
    "name": "ipython",
    "version": 3
   },
   "file_extension": ".py",
   "mimetype": "text/x-python",
   "name": "python",
   "nbconvert_exporter": "python",
   "pygments_lexer": "ipython3",
   "version": "3.12.2"
  }
 },
 "nbformat": 4,
 "nbformat_minor": 5
}
